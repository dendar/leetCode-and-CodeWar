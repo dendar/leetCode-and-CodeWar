{
 "cells": [
  {
   "cell_type": "markdown",
   "metadata": {},
   "source": [
    "# Count the smiley faces!\n",
    "Given an array (arr) as an argument complete the function countSmileys that should return the total number of smiling faces.\n",
    "\n",
    "Rules for a smiling face:\n",
    "\n",
    "    Each smiley face must contain a valid pair of eyes. Eyes can be marked as : or ;\n",
    "    A smiley face can have a nose but it does not have to. Valid characters for a nose are - or ~\n",
    "    Every smiling face must have a smiling mouth that should be marked with either ) or D\n",
    "    No additional characters are allowed except for those mentioned.\n",
    "\n",
    "Valid smiley face examples: :) :D ;-D :~)\n",
    "Invalid smiley faces: ;( :> :} :]\n",
    "\n",
    "Example\n",
    "`countSmileys([':)', ';(', ';}', ':-D']);       // should return 2;`\n",
    "\n",
    "`countSmileys([';D', ':-(', ':-)', ';~)']);     // should return 3;`\n",
    "\n"
   ]
  },
  {
   "cell_type": "code",
   "execution_count": 2,
   "metadata": {},
   "outputs": [],
   "source": [
    "def count_smileys(arr):\n",
    "    sml = [':)',':-)',':~)',';)',';-)',';~)', ':D',':-D',':~D',';D',';-D',';~D']\n",
    "    total = []\n",
    "    for i in arr:\n",
    "        if i in sml:\n",
    "            total.append(i)\n",
    "    return len(total) #the number of valid smiley faces in array/list\n"
   ]
  },
  {
   "cell_type": "code",
   "execution_count": 5,
   "metadata": {},
   "outputs": [
    {
     "data": {
      "text/plain": [
       "4"
      ]
     },
     "execution_count": 5,
     "metadata": {},
     "output_type": "execute_result"
    }
   ],
   "source": [
    "count_smileys([':D',':~)',';~D',':)'])"
   ]
  },
  {
   "cell_type": "code",
   "execution_count": 3,
   "metadata": {},
   "outputs": [
    {
     "name": "stdout",
     "output_type": "stream",
     "text": [
      "[('Maria', 4150.0), ('Rohan', 5320.0), ('Valentina', 35210.0)]\n"
     ]
    }
   ],
   "source": [
    "names = [\"Maria\", \"Rohan\", \"Valentina\"]\n",
    "\n",
    "insurance_costs = [4150.0, 5320.0, 35210.0]\n",
    "\n",
    "insurance_data = zip(names,insurance_costs)\n",
    "print(list(insurance_data))"
   ]
  },
  {
   "cell_type": "code",
   "execution_count": 4,
   "metadata": {},
   "outputs": [
    {
     "data": {
      "text/plain": [
       "2"
      ]
     },
     "execution_count": 4,
     "metadata": {},
     "output_type": "execute_result"
    }
   ],
   "source": [
    "inventory = [\"twin bed\", \"twin bed\", \"headboard\", \"queen bed\", \"king bed\", \"dresser\", \"dresser\", \"table\", \"table\", \"nightstand\", \"nightstand\", \"king bed\", \"king bed\", \"twin bed\", \"twin bed\", \"sheets\", \"sheets\", \"pillow\", \"pillow\"]\n",
    "\n",
    "inventory.count('dresser')"
   ]
  },
  {
   "cell_type": "code",
   "execution_count": null,
   "metadata": {},
   "outputs": [],
   "source": []
  }
 ],
 "metadata": {
  "kernelspec": {
   "display_name": "Python 3",
   "language": "python",
   "name": "python3"
  },
  "language_info": {
   "codemirror_mode": {
    "name": "ipython",
    "version": 3
   },
   "file_extension": ".py",
   "mimetype": "text/x-python",
   "name": "python",
   "nbconvert_exporter": "python",
   "pygments_lexer": "ipython3",
   "version": "3.7.6"
  },
  "toc": {
   "base_numbering": 1,
   "nav_menu": {},
   "number_sections": true,
   "sideBar": true,
   "skip_h1_title": false,
   "title_cell": "Table of Contents",
   "title_sidebar": "Contents",
   "toc_cell": false,
   "toc_position": {},
   "toc_section_display": true,
   "toc_window_display": false
  }
 },
 "nbformat": 4,
 "nbformat_minor": 4
}
