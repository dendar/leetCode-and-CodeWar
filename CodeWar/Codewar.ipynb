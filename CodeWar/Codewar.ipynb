{
 "cells": [
  {
   "cell_type": "markdown",
   "metadata": {},
   "source": [
    "https://www.codewars.com/dashboard"
   ]
  },
  {
   "cell_type": "markdown",
   "metadata": {},
   "source": [
    "\n",
    "# Simple Pig Latin\n",
    "\n",
    "Move the first letter of each word to the end of it, then add \"ay\" to the end of the word. Leave punctuation marks untouched.\n",
    "\n",
    " `pig_it('Pig latin is cool') # igPay atinlay siay oolcay`\n",
    " \n",
    " ` pig_it('Hello world !')     # elloHay orldway !`"
   ]
  },
  {
   "cell_type": "code",
   "execution_count": 30,
   "metadata": {},
   "outputs": [],
   "source": [
    "def pig_it(text):\n",
    "    words = []\n",
    "    for word in text.split():\n",
    "        if word.isalpha():\n",
    "            sentence =  word[1:] +word[0]+\"ay\"\n",
    "            words.append(sentence)\n",
    "        else:\n",
    "            words.append(word)\n",
    "    return \" \".join(words)"
   ]
  },
  {
   "cell_type": "code",
   "execution_count": 31,
   "metadata": {},
   "outputs": [
    {
     "data": {
      "text/plain": [
       "'igPay atinlay siay oolcay !'"
      ]
     },
     "execution_count": 31,
     "metadata": {},
     "output_type": "execute_result"
    }
   ],
   "source": [
    "pig_it('Pig latin is cool !')"
   ]
  },
  {
   "cell_type": "markdown",
   "metadata": {},
   "source": [
    "# Reversed Words\n",
    "\n",
    "Complete the solution so that it reverses all of the words within the string passed in.\n",
    "\n",
    "Example:\n",
    "\n",
    "`\"The greatest victory is that which requires no battle\" --> \"battle no requires which that is victory greatest The\"`"
   ]
  },
  {
   "cell_type": "code",
   "execution_count": 13,
   "metadata": {},
   "outputs": [
    {
     "data": {
      "text/plain": [
       "'battle no requires which that is victory greatest The'"
      ]
     },
     "execution_count": 13,
     "metadata": {},
     "output_type": "execute_result"
    }
   ],
   "source": [
    "l = \"The greatest victory is that which requires no battle\"\n",
    "word = []\n",
    "for i in l.split()[::-1]:\n",
    "    word.append(i)\n",
    "\" \".join(word)  \n"
   ]
  },
  {
   "cell_type": "code",
   "execution_count": 14,
   "metadata": {},
   "outputs": [],
   "source": [
    "def reverse_words(s):\n",
    "    word = []\n",
    "    for i in s.split()[::-1]:\n",
    "        word.append(i)\n",
    "    \n",
    "\n",
    "    return \" \".join(word)  "
   ]
  },
  {
   "cell_type": "code",
   "execution_count": 15,
   "metadata": {},
   "outputs": [
    {
     "data": {
      "text/plain": [
       "'battle no requires which that is victory greatest The'"
      ]
     },
     "execution_count": 15,
     "metadata": {},
     "output_type": "execute_result"
    }
   ],
   "source": [
    "reverse_words(l)"
   ]
  },
  {
   "cell_type": "markdown",
   "metadata": {},
   "source": [
    "# Factorial\n",
    "\n",
    "Find the factorial of a number using recursion "
   ]
  },
  {
   "cell_type": "code",
   "execution_count": 6,
   "metadata": {},
   "outputs": [
    {
     "name": "stdout",
     "output_type": "stream",
     "text": [
      "Number 5 Factorial 20\n"
     ]
    }
   ],
   "source": [
    " def factorial(nums):\n",
    "    \"\"\"\n",
    "    Checking the number\n",
    "    is 1 or 0 then return 1\n",
    "    other  wise return factorial\n",
    "    \n",
    "    \"\"\"\n",
    "    if (nums==1 or nums==0):\n",
    "        return 1\n",
    "    else:\n",
    "        return (nums*factorial(nums-1))\n",
    "    \n",
    "nums =5\n",
    "print(f\"Number {nums} Factorial {factorial(nums)}\")"
   ]
  },
  {
   "cell_type": "markdown",
   "metadata": {},
   "source": [
    "# Is n divisible by x and y?\n",
    "\n",
    "Create a function that checks if a number n is divisible by two numbers x AND y. All inputs are positive, non-zero digits.\n",
    "\n",
    "Examples:\n",
    "\n",
    "` n =   3, x = 1, y = 3 =>  true because   3 is divisible by 1 and 3`\n",
    "\n",
    "` n =  12, x = 2, y = 6 =>  true because  12 is divisible by 2 and 6`"
   ]
  },
  {
   "cell_type": "code",
   "execution_count": 1,
   "metadata": {},
   "outputs": [],
   "source": [
    "def is_divisible(n,x,y):\n",
    "    if (n%x==0 and n%y==0):\n",
    "        return True\n",
    "    else:\n",
    "        return False"
   ]
  },
  {
   "cell_type": "code",
   "execution_count": 2,
   "metadata": {},
   "outputs": [
    {
     "data": {
      "text/plain": [
       "True"
      ]
     },
     "execution_count": 2,
     "metadata": {},
     "output_type": "execute_result"
    }
   ],
   "source": [
    "is_divisible(12,2,6)"
   ]
  }
 ],
 "metadata": {
  "kernelspec": {
   "display_name": "Python 3",
   "language": "python",
   "name": "python3"
  },
  "language_info": {
   "codemirror_mode": {
    "name": "ipython",
    "version": 3
   },
   "file_extension": ".py",
   "mimetype": "text/x-python",
   "name": "python",
   "nbconvert_exporter": "python",
   "pygments_lexer": "ipython3",
   "version": "3.7.6"
  },
  "toc": {
   "base_numbering": 1,
   "nav_menu": {},
   "number_sections": true,
   "sideBar": true,
   "skip_h1_title": false,
   "title_cell": "Table of Contents",
   "title_sidebar": "Contents",
   "toc_cell": false,
   "toc_position": {},
   "toc_section_display": true,
   "toc_window_display": false
  }
 },
 "nbformat": 4,
 "nbformat_minor": 4
}
