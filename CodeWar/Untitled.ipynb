{
 "cells": [
  {
   "cell_type": "markdown",
   "metadata": {},
   "source": [
    "ln a soccer match, each team is allowed to do at max 3 substitutions within 90 minutes. Both the teams start with 11 players each. For this kata, we will consider that each half is played for exactly 45 minutes and there was no injury time added.\n",
    "\n",
    "Given will be a list of time (in minutes) at which each team has done their substitutions. The task will be to define a function 'soccer_substitution' that returns the total time played by each team's starting lineup.\n",
    "\n",
    "Input - Takes two arguments t1, t2 where, t1 is the list containing substitution times for team1 and t2 is a list containing substitution times for team2.\n",
    "\n",
    "Output - return a list [s1, s2] where s1 is the total time (full minutes) played by the each starting XI player of team1 added together and s2 is the same for team2.\n",
    "\n",
    "An example: soccer_substitution( [88,90], [5,45,46] ) should return [986, 813]\n",
    "\n",
    "`Note that a team can choose not to do any substitution.`\n",
    "\n",
    "`A substitution can be made at 90th minute. Take playtime for the subbed out player to be 89 full mins`\n",
    "\n",
    "`Sub times might not be ordered`"
   ]
  },
  {
   "cell_type": "code",
   "execution_count": 33,
   "metadata": {},
   "outputs": [],
   "source": [
    "def soccer_substitution(t1, t2):\n",
    "    time = 90*11\n",
    "    team1 = time-(91*len(t1) - sum(t1))\n",
    "    team2 = time-(91*len(t2) - sum(t2))\n",
    "    \n",
    "    return [team1,team2]"
   ]
  },
  {
   "cell_type": "code",
   "execution_count": 34,
   "metadata": {},
   "outputs": [
    {
     "data": {
      "text/plain": [
       "[986, 813]"
      ]
     },
     "execution_count": 34,
     "metadata": {},
     "output_type": "execute_result"
    }
   ],
   "source": [
    "soccer_substitution( [88,90], [5,45,46] )"
   ]
  },
  {
   "cell_type": "code",
   "execution_count": 51,
   "metadata": {},
   "outputs": [],
   "source": [
    "def soccer_substitution_2(t1, t2):\n",
    "    \n",
    "    time = 90*11\n",
    "    team1 = 0\n",
    "    team2 = 0\n",
    "    \n",
    "    for i in t1:\n",
    "        team1 += (91- i)\n",
    "    for j in t2:\n",
    "        team2 += (91 - j)\n",
    "    \n",
    "    return [time - team1,time -team2]"
   ]
  },
  {
   "cell_type": "code",
   "execution_count": 52,
   "metadata": {},
   "outputs": [
    {
     "data": {
      "text/plain": [
       "[986, 813]"
      ]
     },
     "execution_count": 52,
     "metadata": {},
     "output_type": "execute_result"
    }
   ],
   "source": [
    "soccer_substitution_2( [88,90], [5,45,46] )"
   ]
  },
  {
   "cell_type": "code",
   "execution_count": null,
   "metadata": {},
   "outputs": [],
   "source": []
  }
 ],
 "metadata": {
  "kernelspec": {
   "display_name": "Python 3",
   "language": "python",
   "name": "python3"
  },
  "language_info": {
   "codemirror_mode": {
    "name": "ipython",
    "version": 3
   },
   "file_extension": ".py",
   "mimetype": "text/x-python",
   "name": "python",
   "nbconvert_exporter": "python",
   "pygments_lexer": "ipython3",
   "version": "3.7.6"
  },
  "toc": {
   "base_numbering": 1,
   "nav_menu": {},
   "number_sections": true,
   "sideBar": true,
   "skip_h1_title": false,
   "title_cell": "Table of Contents",
   "title_sidebar": "Contents",
   "toc_cell": false,
   "toc_position": {},
   "toc_section_display": true,
   "toc_window_display": false
  }
 },
 "nbformat": 4,
 "nbformat_minor": 4
}
