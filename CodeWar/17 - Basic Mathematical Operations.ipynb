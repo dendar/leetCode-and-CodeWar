{
 "cells": [
  {
   "cell_type": "markdown",
   "metadata": {},
   "source": [
    "# Basic Mathematical Operations\n",
    "Your task is to create a function that does four basic mathematical operations.\n",
    "\n",
    "The function should take three arguments - operation(string/char), value1(number), value2(number).\n",
    "The function should return result of numbers after applying the chosen operation.\n",
    "\n",
    "Examples\n",
    "\n",
    "`basic_op('+', 4, 7)         # Output: 11`\n",
    "\n",
    "`basic_op('-', 15, 18)       # Output: -3`\n",
    "\n",
    "`basic_op('*', 5, 5)         # Output: 25`\n",
    "\n",
    "`basic_op('/', 49, 7)`"
   ]
  },
  {
   "cell_type": "code",
   "execution_count": 1,
   "metadata": {},
   "outputs": [],
   "source": [
    "def basic_op(operator, value1, value2):\n",
    "    #your code here\n",
    "    if operator==\"+\":\n",
    "        return value1 + value2\n",
    "    elif operator==\"-\":\n",
    "        return value1 - value2\n",
    "    elif operator==\"*\":\n",
    "        return value1 * value2\n",
    "    elif operator==\"/\":\n",
    "        return value1 / value2"
   ]
  },
  {
   "cell_type": "code",
   "execution_count": 2,
   "metadata": {},
   "outputs": [
    {
     "data": {
      "text/plain": [
       "11"
      ]
     },
     "execution_count": 2,
     "metadata": {},
     "output_type": "execute_result"
    }
   ],
   "source": [
    "basic_op('+', 4, 7)"
   ]
  },
  {
   "cell_type": "code",
   "execution_count": null,
   "metadata": {},
   "outputs": [],
   "source": []
  }
 ],
 "metadata": {
  "kernelspec": {
   "display_name": "Python 3",
   "language": "python",
   "name": "python3"
  },
  "language_info": {
   "codemirror_mode": {
    "name": "ipython",
    "version": 3
   },
   "file_extension": ".py",
   "mimetype": "text/x-python",
   "name": "python",
   "nbconvert_exporter": "python",
   "pygments_lexer": "ipython3",
   "version": "3.7.6"
  },
  "toc": {
   "base_numbering": 1,
   "nav_menu": {},
   "number_sections": true,
   "sideBar": true,
   "skip_h1_title": false,
   "title_cell": "Table of Contents",
   "title_sidebar": "Contents",
   "toc_cell": false,
   "toc_position": {},
   "toc_section_display": true,
   "toc_window_display": false
  }
 },
 "nbformat": 4,
 "nbformat_minor": 4
}
