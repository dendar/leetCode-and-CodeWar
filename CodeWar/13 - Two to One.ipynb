{
 "cells": [
  {
   "cell_type": "markdown",
   "metadata": {},
   "source": [
    "# Two to One\n",
    "\n",
    "Take 2 strings s1 and s2 including only letters from ato z. Return a new sorted string, the longest possible, containing distinct letters - each taken only once - coming from s1 or s2.\n",
    "\n",
    "Examples:\n",
    "\n",
    "`a = \"xyaabbbccccdefww\"`\n",
    "\n",
    "`b = \"xxxxyyyyabklmopq\"`\n",
    "\n",
    "`longest(a, b) -> \"abcdefklmopqwxy\"`\n",
    "\n",
    "`a = \"abcdefghijklmnopqrstuvwxyz\"`\n",
    "\n",
    "`longest(a, a) -> \"abcdefghijklmnopqrstuvwxyz\"`\n"
   ]
  },
  {
   "cell_type": "code",
   "execution_count": 12,
   "metadata": {},
   "outputs": [
    {
     "data": {
      "text/plain": [
       "'abcdefklmopqwxy'"
      ]
     },
     "execution_count": 12,
     "metadata": {},
     "output_type": "execute_result"
    }
   ],
   "source": [
    "def longest(a1,a2):\n",
    "    word = []\n",
    "    w = a1 +a2\n",
    "    text = (set(w))\n",
    "    for i in text:\n",
    "        word.append(i)\n",
    "    return \"\".join(sorted(word))\n",
    "    \n",
    "longest(\"xyaabbbccccdefww\", \"xxxxyyyyabklmopq\") "
   ]
  },
  {
   "cell_type": "code",
   "execution_count": 11,
   "metadata": {},
   "outputs": [
    {
     "data": {
      "text/plain": [
       "'def longest(a1, a2):\\n    return \"\".join(sorted(set(a1 + a2)))'"
      ]
     },
     "execution_count": 11,
     "metadata": {},
     "output_type": "execute_result"
    }
   ],
   "source": [
    "\"\"\"def longest(a1, a2):\n",
    "    return \"\".join(sorted(set(a1 + a2)))\"\"\""
   ]
  },
  {
   "cell_type": "code",
   "execution_count": null,
   "metadata": {},
   "outputs": [],
   "source": []
  }
 ],
 "metadata": {
  "kernelspec": {
   "display_name": "Python 3",
   "language": "python",
   "name": "python3"
  },
  "language_info": {
   "codemirror_mode": {
    "name": "ipython",
    "version": 3
   },
   "file_extension": ".py",
   "mimetype": "text/x-python",
   "name": "python",
   "nbconvert_exporter": "python",
   "pygments_lexer": "ipython3",
   "version": "3.7.6"
  },
  "toc": {
   "base_numbering": 1,
   "nav_menu": {},
   "number_sections": true,
   "sideBar": true,
   "skip_h1_title": false,
   "title_cell": "Table of Contents",
   "title_sidebar": "Contents",
   "toc_cell": false,
   "toc_position": {},
   "toc_section_display": true,
   "toc_window_display": false
  }
 },
 "nbformat": 4,
 "nbformat_minor": 4
}
