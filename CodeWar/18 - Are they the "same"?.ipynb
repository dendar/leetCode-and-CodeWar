{
 "cells": [
  {
   "cell_type": "markdown",
   "metadata": {},
   "source": [
    "# Are they the \"same\"?\n",
    "\n",
    "Given two arrays a and b write a function comp(a, b) (orcompSame(a, b)) that checks whether the two arrays have the \"same\" elements, with the same multiplicities. \"Same\" means, here, that the elements in b are the elements in a squared, regardless of the order.\n",
    "\n",
    "Examples\n",
    "\n",
    "`a = [121, 144, 19, 161, 19, 144, 19, 11] `\n",
    "\n",
    "`b = [121, 14641, 20736, 361, 25921, 361, 20736, 361]`\n"
   ]
  },
  {
   "cell_type": "code",
   "execution_count": 22,
   "metadata": {},
   "outputs": [
    {
     "data": {
      "text/plain": [
       "True"
      ]
     },
     "execution_count": 22,
     "metadata": {},
     "output_type": "execute_result"
    }
   ],
   "source": [
    "def comp(array1, array2):\n",
    "    arr = []\n",
    "    if array1== None or array2 ==None:\n",
    "        return False\n",
    "    \n",
    "    for i in array1:\n",
    "        if i**2 in array2:\n",
    "            array2.remove(i**2)\n",
    "    if len(array2)==0:\n",
    "        return True\n",
    "    else:\n",
    "        return False\n",
    "\n",
    "    \n"
   ]
  },
  {
   "cell_type": "code",
   "execution_count": 23,
   "metadata": {},
   "outputs": [
    {
     "data": {
      "text/plain": [
       "True"
      ]
     },
     "execution_count": 23,
     "metadata": {},
     "output_type": "execute_result"
    }
   ],
   "source": [
    "a = [121, 144, 19, 161, 19, 144, 19, 11]\n",
    "\n",
    "b = [121, 14641, 20736, 361, 25921, 361, 20736, 361]\n",
    "\n",
    "comp(a,b)\n"
   ]
  }
 ],
 "metadata": {
  "kernelspec": {
   "display_name": "Python 3",
   "language": "python",
   "name": "python3"
  },
  "language_info": {
   "codemirror_mode": {
    "name": "ipython",
    "version": 3
   },
   "file_extension": ".py",
   "mimetype": "text/x-python",
   "name": "python",
   "nbconvert_exporter": "python",
   "pygments_lexer": "ipython3",
   "version": "3.7.6"
  },
  "toc": {
   "base_numbering": 1,
   "nav_menu": {},
   "number_sections": true,
   "sideBar": true,
   "skip_h1_title": false,
   "title_cell": "Table of Contents",
   "title_sidebar": "Contents",
   "toc_cell": false,
   "toc_position": {},
   "toc_section_display": true,
   "toc_window_display": false
  }
 },
 "nbformat": 4,
 "nbformat_minor": 4
}
