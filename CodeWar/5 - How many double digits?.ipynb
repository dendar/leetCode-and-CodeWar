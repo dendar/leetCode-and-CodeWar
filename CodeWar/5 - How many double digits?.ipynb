{
 "cells": [
  {
   "cell_type": "markdown",
   "metadata": {},
   "source": [
    "#  How many double digits?\n",
    "Bob works for Yamazon as a barcode scanning specialist. Every day, armed with his trusty laser, his job is to scan barcodes of packages as they pass in front of him on a conveyor belt.\n",
    "\n",
    "One day, his boss Beff Jezos tells him \"There's been a big mixup with the new barcodes. We forgot to count every bardcode that had a repeating digit. Now we are short boxes but we and dont know how many to order. I need you to hand count every barcode that has a double digit.\"\n",
    "\n",
    "Yamazon barcodes are very long. Bob knows there are more labels to count then he has time in his life. Is there a way to keep his sanity and his job?\n",
    "\n",
    "For this Kata, you will write a function that accepts an integer 'ndigit' representing the number of digits in a barcode. The function should return the total number of n-digit integers which contain a 'double digit' (the same digit twice in a row)\"\n",
    "\n",
    "Barcodes are numeric only (containing 0 - 9), and will not have leading zeroes (IE, a six digit barcode will start as 100000).\n",
    "\n",
    "For example:\n",
    "\n",
    "`number_of_duplicate_digits(2) should return 9`\n",
    "\n",
    "`11,22,33,44,55,66,77,88,99`\n",
    "\n",
    "`number_of_duplicate_digits(3) should return 171:`\n",
    "\n",
    "`110,111,122,133... etc.`"
   ]
  },
  {
   "cell_type": "code",
   "execution_count": 34,
   "metadata": {},
   "outputs": [],
   "source": [
    "def number_of_duplicate_digits(ndigit):\n",
    "    return 10**ndigit-9**ndigit-10**(ndigit-1)"
   ]
  },
  {
   "cell_type": "code",
   "execution_count": 35,
   "metadata": {},
   "outputs": [
    {
     "data": {
      "text/plain": [
       "171"
      ]
     },
     "execution_count": 35,
     "metadata": {},
     "output_type": "execute_result"
    }
   ],
   "source": [
    "number_of_duplicate_digits(3)"
   ]
  },
  {
   "cell_type": "code",
   "execution_count": null,
   "metadata": {},
   "outputs": [],
   "source": []
  }
 ],
 "metadata": {
  "kernelspec": {
   "display_name": "Python 3",
   "language": "python",
   "name": "python3"
  },
  "language_info": {
   "codemirror_mode": {
    "name": "ipython",
    "version": 3
   },
   "file_extension": ".py",
   "mimetype": "text/x-python",
   "name": "python",
   "nbconvert_exporter": "python",
   "pygments_lexer": "ipython3",
   "version": "3.7.6"
  },
  "toc": {
   "base_numbering": 1,
   "nav_menu": {},
   "number_sections": true,
   "sideBar": true,
   "skip_h1_title": false,
   "title_cell": "Table of Contents",
   "title_sidebar": "Contents",
   "toc_cell": false,
   "toc_position": {},
   "toc_section_display": true,
   "toc_window_display": false
  }
 },
 "nbformat": 4,
 "nbformat_minor": 4
}
