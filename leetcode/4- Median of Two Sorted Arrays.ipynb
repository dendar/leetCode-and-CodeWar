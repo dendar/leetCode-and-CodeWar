{
 "cells": [
  {
   "cell_type": "markdown",
   "metadata": {},
   "source": [
    "# Median of Two Sorted Arrays\n",
    "\n",
    "Given two sorted arrays nums1 and nums2 of size m and n respectively, return the median of the two sorted arrays.\n",
    "\n",
    "The overall run time complexity should be O(log (m+n)).\n",
    "\n",
    " \n",
    "\n",
    "`Example 1:`\n",
    "\n",
    "`Input: nums1 = [1,3], nums2 = [2]`\n",
    "\n",
    "`Output: 2.00000`\n",
    "\n",
    "`Explanation: merged array = [1,2,3] and median is 2.`"
   ]
  },
  {
   "cell_type": "code",
   "execution_count": 19,
   "metadata": {},
   "outputs": [
    {
     "name": "stdout",
     "output_type": "stream",
     "text": [
      "2.5\n"
     ]
    }
   ],
   "source": [
    "num =  [1,2]\n",
    "num1 = [3,4]\n",
    "totalarray =sorted(num+num1)\n",
    "midpoint = int(len(totalarray)/2)\n",
    "if len(totalarray)%2 !=0:\n",
    "    print(totalarray[midpoint])\n",
    "else:\n",
    "    print((totalarray[midpoint]+totalarray[midpoint-1])/2)"
   ]
  },
  {
   "cell_type": "code",
   "execution_count": 20,
   "metadata": {},
   "outputs": [],
   "source": [
    "import math \n",
    "def findMedianSortedArrays(num1, num2):\n",
    "    totalArray = sorted(num1+num2)\n",
    "    \n",
    "    midpoint = math.floor(len(totalArray)/2)\n",
    "    \n",
    "    if len(totalArray)%2 !=0:\n",
    "        return totalArray[midpoint]\n",
    "    else:\n",
    "        return (totalArray[midpoint]+totalArray[midpoint-1])/2\n",
    "    "
   ]
  },
  {
   "cell_type": "code",
   "execution_count": 21,
   "metadata": {},
   "outputs": [
    {
     "data": {
      "text/plain": [
       "7"
      ]
     },
     "execution_count": 21,
     "metadata": {},
     "output_type": "execute_result"
    }
   ],
   "source": [
    "findMedianSortedArrays([6,7,88,67], [2])"
   ]
  },
  {
   "cell_type": "code",
   "execution_count": null,
   "metadata": {},
   "outputs": [],
   "source": []
  }
 ],
 "metadata": {
  "kernelspec": {
   "display_name": "Python 3",
   "language": "python",
   "name": "python3"
  },
  "language_info": {
   "codemirror_mode": {
    "name": "ipython",
    "version": 3
   },
   "file_extension": ".py",
   "mimetype": "text/x-python",
   "name": "python",
   "nbconvert_exporter": "python",
   "pygments_lexer": "ipython3",
   "version": "3.7.6"
  },
  "toc": {
   "base_numbering": 1,
   "nav_menu": {},
   "number_sections": true,
   "sideBar": true,
   "skip_h1_title": false,
   "title_cell": "Table of Contents",
   "title_sidebar": "Contents",
   "toc_cell": false,
   "toc_position": {},
   "toc_section_display": true,
   "toc_window_display": false
  }
 },
 "nbformat": 4,
 "nbformat_minor": 4
}
