{
 "cells": [
  {
   "cell_type": "markdown",
   "metadata": {},
   "source": [
    "# Growth of a Population\n",
    "\n",
    "In a small town the population is p0 = 1000 at the beginning of a year. The population regularly increases by 2 percent per year and moreover 50 new inhabitants per year come to live in the town. How many years does the town need to see its population greater or equal to p = 1200 inhabitants?\n",
    "\n",
    "`At the end of the first year there will be: `\n",
    "`1000 + 1000 * 0.02 + 50 => 1070 inhabitants`\n",
    "\n",
    "`At the end of the 2nd year there will be: `\n",
    "`1070 + 1070 * 0.02 + 50 => 1141 inhabitants (** number of inhabitants is an integer **)`\n",
    "\n",
    "`At the end of the 3rd year there will be:`\n",
    "`1141 + 1141 * 0.02 + 50 => 1213`\n",
    "\n",
    "`It will need 3 entire years.`\n",
    "\n",
    "More generally given parameters:\n",
    "\n",
    "p0, percent, aug (inhabitants coming or leaving each year), p (population to surpass)\n",
    "\n",
    "the function nb_year should return n number of entire years needed to get a population greater or equal to p.\n",
    "\n",
    "aug is an integer, percent a positive or null floating number, p0 and p are positive integers (> 0)\n",
    "\n",
    "Examples:\n",
    "\n",
    "`nb_year(1500, 5, 100, 5000) -> 15`\n",
    "\n",
    "`nb_year(1500000, 2.5, 10000, 2000000) -> 10`"
   ]
  },
  {
   "cell_type": "code",
   "execution_count": 182,
   "metadata": {},
   "outputs": [],
   "source": [
    "def nb_year(p0, percent, aug,p):\n",
    "    year = 0\n",
    "    while p0<=p:\n",
    "        if type(percent)==float:\n",
    "            p0 +=round((p0*(1+percent/100))+aug)\n",
    "            year += 1\n",
    "        \n",
    "        else:\n",
    "            p0 +=round((p0*(percent/100))+aug)\n",
    "            year += 1\n",
    "    return year\n",
    "        "
   ]
  },
  {
   "cell_type": "code",
   "execution_count": 183,
   "metadata": {},
   "outputs": [],
   "source": [
    "# solution to pass\n",
    "def nb_year(p0, percent, aug,p):\n",
    "    year = 0\n",
    "    while p0<=p:\n",
    "        \n",
    "        p0 = round((p0*(1+percent/100))+aug)\n",
    "        year += 1\n",
    "        \n",
    "    if p0<p:\n",
    "        p0 = round((p0*(percent/100))+aug)\n",
    "        year += 1\n",
    "    return year\n",
    "        "
   ]
  },
  {
   "cell_type": "code",
   "execution_count": 184,
   "metadata": {},
   "outputs": [
    {
     "data": {
      "text/plain": [
       "94"
      ]
     },
     "execution_count": 184,
     "metadata": {},
     "output_type": "execute_result"
    }
   ],
   "source": [
    "nb_year(1500000, 0.25, 1000, 2000000)"
   ]
  },
  {
   "cell_type": "code",
   "execution_count": 180,
   "metadata": {},
   "outputs": [
    {
     "data": {
      "text/plain": [
       "15"
      ]
     },
     "execution_count": 180,
     "metadata": {},
     "output_type": "execute_result"
    }
   ],
   "source": [
    "nb_year(1500, 5, 100, 5000)"
   ]
  },
  {
   "cell_type": "code",
   "execution_count": 181,
   "metadata": {},
   "outputs": [
    {
     "data": {
      "text/plain": [
       "10"
      ]
     },
     "execution_count": 181,
     "metadata": {},
     "output_type": "execute_result"
    }
   ],
   "source": [
    "nb_year(1500000, 2.5, 10000, 2000000)"
   ]
  }
 ],
 "metadata": {
  "kernelspec": {
   "display_name": "Python 3",
   "language": "python",
   "name": "python3"
  },
  "language_info": {
   "codemirror_mode": {
    "name": "ipython",
    "version": 3
   },
   "file_extension": ".py",
   "mimetype": "text/x-python",
   "name": "python",
   "nbconvert_exporter": "python",
   "pygments_lexer": "ipython3",
   "version": "3.7.6"
  },
  "toc": {
   "base_numbering": 1,
   "nav_menu": {},
   "number_sections": true,
   "sideBar": true,
   "skip_h1_title": false,
   "title_cell": "Table of Contents",
   "title_sidebar": "Contents",
   "toc_cell": false,
   "toc_position": {},
   "toc_section_display": true,
   "toc_window_display": false
  }
 },
 "nbformat": 4,
 "nbformat_minor": 4
}
